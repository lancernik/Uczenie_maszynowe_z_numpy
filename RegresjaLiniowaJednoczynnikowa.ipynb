{
 "cells": [
  {
   "cell_type": "markdown",
   "metadata": {},
   "source": [
    "### Przbliżamy wartość równaniem:"
   ]
  },
  {
   "cell_type": "markdown",
   "metadata": {},
   "source": [
    "\\begin{align*}\n",
    "\\hat y = wx + b\n",
    "\\end{align*}"
   ]
  },
  {
   "cell_type": "markdown",
   "metadata": {},
   "source": [
    "### Spadek gradientu = Gradient Descent"
   ]
  },
  {
   "cell_type": "markdown",
   "metadata": {},
   "source": [
    "\\begin{align*}\n",
    "w = w - \\alpha * dw\n",
    "\\end{align*}\n",
    "\\begin{align*}\n",
    "b = b - \\alpha * db\n",
    "\\end{align*}"
   ]
  },
  {
   "cell_type": "markdown",
   "metadata": {},
   "source": [
    "#### Czym jest alfa, dw i db?"
   ]
  },
  {
   "cell_type": "markdown",
   "metadata": {},
   "source": [
    "\\begin{align*}\n",
    "\\alpha = krok\n",
    "\\end{align*}\n",
    "\n",
    "\\begin{align*}\n",
    "dw = \\frac{dJ}{dw} = \\frac{1}{N} \\sum 2x_{i}(\\hat y_{i} - y_{i})\n",
    "\\end{align*}\n",
    "\n",
    "\\begin{align*}\n",
    "db = \\frac{dJ}{db} = \\frac{1}{N} \\sum 2(\\hat y_{i} - y_{i})\n",
    "\\end{align*}"
   ]
  },
  {
   "cell_type": "markdown",
   "metadata": {},
   "source": [
    "#### Funkcja kosztu"
   ]
  },
  {
   "cell_type": "markdown",
   "metadata": {},
   "source": [
    "\\begin{align*}\n",
    "J(w,b) = \\frac{1}{N} \\sum_{i=1}^{n}  (y_{i} -\\hat y)^{2}\n",
    "\\end{align*}"
   ]
  },
  {
   "cell_type": "code",
   "execution_count": 1,
   "metadata": {},
   "outputs": [
    {
     "data": {
      "text/plain": [
       "<matplotlib.collections.PathCollection at 0x24314faa080>"
      ]
     },
     "execution_count": 1,
     "metadata": {},
     "output_type": "execute_result"
    },
    {
     "data": {
      "image/png": "[encoded data removed]",
      "text/plain": [
       "<Figure size 432x288 with 1 Axes>"
      ]
     },
     "metadata": {
      "needs_background": "light"
     },
     "output_type": "display_data"
    }
   ],
   "source": [
    "import numpy as  np\n",
    "import matplotlib.pyplot as plt\n",
    "\n",
    "#x = np.array([12,27,30,45,51,55,70])\n",
    "\n",
    "\n",
    "\n",
    "x = np.array([0.1,0.4,0.30,0.45,0.5,0.55,0.90])\n",
    "y =          [0.1,0.2,0.3 ,0.4 ,0.5,0.6 ,0.7]\n",
    "\n",
    "plt.scatter(y,x,c=\"red\")\n"
   ]
  },
  {
   "cell_type": "code",
   "execution_count": 2,
   "metadata": {},
   "outputs": [],
   "source": [
    "wagi = 0\n",
    "bias = 0           "
   ]
  },
  {
   "cell_type": "markdown",
   "metadata": {},
   "source": [
    "## Definiujemy funkcje kosztu  -  MSE"
   ]
  },
  {
   "cell_type": "markdown",
   "metadata": {},
   "source": [
    "\\begin{align*}\n",
    "\\hat y = wx + b\n",
    "\\end{align*}"
   ]
  },
  {
   "cell_type": "markdown",
   "metadata": {},
   "source": [
    "\\begin{align*}\n",
    "J(w,b) = \\frac{1}{N} \\sum_{i=1}^{n}  (y_{i} -\\hat y)^{2}\n",
    "\\end{align*}"
   ]
  },
  {
   "cell_type": "code",
   "execution_count": 3,
   "metadata": {},
   "outputs": [],
   "source": [
    "def koszt(wagi, bias, x, wartosc_prawdziwa):\n",
    "    predykcja = x * wagi + bias\n",
    "    \n",
    "    MSE = (1/(len(y)))   *   np.sum(np.square(wartosc_prawdziwa - predykcja))\n",
    "    return MSE"
   ]
  },
  {
   "cell_type": "markdown",
   "metadata": {},
   "source": [
    "## Definiujemy spadek gradientu\n",
    "\n",
    "\\begin{align*}\n",
    "dw = \\frac{dJ}{dw} = \\frac{1}{N} \\sum 2x_{i}(\\hat y - y_{i})\n",
    "\\end{align*}\n",
    "\n",
    "\\begin{align*}\n",
    "db = \\frac{dJ}{db} = \\frac{1}{N} \\sum 2(\\hat y - y_{i})\n",
    "\\end{align*}\n",
    "\n",
    "\n",
    "\n",
    "\\begin{align*}\n",
    "w = w - \\alpha * dw\n",
    "\\end{align*}\n",
    "\n",
    "\\begin{align*}\n",
    "b = b - \\alpha * db\n",
    "\\end{align*}"
   ]
  },
  {
   "cell_type": "code",
   "execution_count": 4,
   "metadata": {},
   "outputs": [],
   "source": [
    "def spadek_gradientu(x, y, lr, iteracje):\n",
    "    bias = 0\n",
    "    wagi = 0.1 \n",
    "    \n",
    "    for n in range(iteracje):\n",
    "        predykcja = x * wagi + bias  \n",
    "\n",
    "        dw = 1/len(x) * np.sum((2*x*(predykcja - y)))\n",
    "        db = 1/len(x) * np.sum(2*(predykcja - y))\n",
    "        \n",
    "        wagi = wagi - lr * dw\n",
    "        bias = bias - lr * db\n",
    "        \n",
    "        if n % 30 == 0:\n",
    "            print(\"Loss : \",koszt(wagi,bias,x,y))\n",
    "            \n",
    "    return wagi, bias  "
   ]
  },
  {
   "cell_type": "code",
   "execution_count": 5,
   "metadata": {},
   "outputs": [
    {
     "name": "stdout",
     "output_type": "stream",
     "text": [
      "Loss :  0.05789887062682215\n",
      "Loss :  0.012427493592066352\n",
      "Loss :  0.0088288831137784\n",
      "Loss :  0.0075415191415262334\n",
      "Loss :  0.007080978605935576\n"
     ]
    }
   ],
   "source": [
    "wagi,bias = spadek_gradientu(x,y,0.2,150)"
   ]
  },
  {
   "cell_type": "markdown",
   "metadata": {},
   "source": [
    "\\begin{align*}\n",
    "\\hat y = wx + b\n",
    "\\end{align*}"
   ]
  },
  {
   "cell_type": "code",
   "execution_count": 6,
   "metadata": {},
   "outputs": [],
   "source": [
    "predykcja = x * wagi + bias         "
   ]
  },
  {
   "cell_type": "code",
   "execution_count": 7,
   "metadata": {},
   "outputs": [
    {
     "data": {
      "text/plain": [
       "[<matplotlib.lines.Line2D at 0x24320052c50>]"
      ]
     },
     "execution_count": 7,
     "metadata": {},
     "output_type": "execute_result"
    },
    {
     "data": {
      "image/png": "[encoded data removed]",
      "text/plain": [
       "<Figure size 432x288 with 1 Axes>"
      ]
     },
     "metadata": {
      "needs_background": "light"
     },
     "output_type": "display_data"
    }
   ],
   "source": [
    "plt.scatter(y,x,c=\"red\")\n",
    "plt.plot(predykcja,x,c=\"green\")"
   ]
  },
  {
   "cell_type": "code",
   "execution_count": 9,
   "metadata": {},
   "outputs": [
    {
     "name": "stdout",
     "output_type": "stream",
     "text": [
      "Loss :  0.05789887062682215\n",
      "Loss :  0.012427493592066352\n",
      "Loss :  0.0088288831137784\n",
      "Loss :  0.0075415191415262334\n",
      "Loss :  0.007080978605935576\n"
     ]
    },
    {
     "data": {
      "image/png": "[encoded data removed]",
      "text/plain": [
       "<Figure size 432x288 with 1 Axes>"
      ]
     },
     "metadata": {
      "needs_background": "light"
     },
     "output_type": "display_data"
    }
   ],
   "source": [
    "from IPython.display import clear_output\n",
    "import time \n",
    "\n",
    "for i in range(0,150):\n",
    "    plt.figure()\n",
    "    wagi,bias = spadek_gradientu(x,y,0.2,i)\n",
    "    predykcja = x * wagi + bias         \n",
    "    plt.scatter(y,x,c=\"red\")\n",
    "    plt.plot(predykcja,x,c=\"green\")\n",
    "    plt.show()\n",
    "    time.sleep(0.15)\n",
    "    \n",
    "    clear_output(wait=True)"
   ]
  },
  {
   "cell_type": "code",
   "execution_count": null,
   "metadata": {},
   "outputs": [],
   "source": []
  },
  {
   "cell_type": "code",
   "execution_count": null,
   "metadata": {},
   "outputs": [],
   "source": []
  },
  {
   "cell_type": "code",
   "execution_count": null,
   "metadata": {},
   "outputs": [],
   "source": []
  }
 ],
 "metadata": {
  "kernelspec": {
   "display_name": "Python 3",
   "language": "python",
   "name": "python3"
  },
  "language_info": {
   "codemirror_mode": {
    "name": "ipython",
    "version": 3
   },
   "file_extension": ".py",
   "mimetype": "text/x-python",
   "name": "python",
   "nbconvert_exporter": "python",
   "pygments_lexer": "ipython3",
   "version": "3.7.1"
  }
 },
 "nbformat": 4,
 "nbformat_minor": 4
}
