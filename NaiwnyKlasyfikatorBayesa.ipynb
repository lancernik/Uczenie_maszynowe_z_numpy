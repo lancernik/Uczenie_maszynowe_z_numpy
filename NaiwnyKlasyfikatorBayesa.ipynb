{
 "cells": [
  {
   "cell_type": "markdown",
   "metadata": {},
   "source": [
    "## Twierdzenie Bayesa"
   ]
  },
  {
   "cell_type": "markdown",
   "metadata": {},
   "source": [
    "\\begin{align*}\n",
    "P(A|B) = \\frac{P(B|A)*P(A)}{P(B)}\n",
    "\\end{align*}"
   ]
  },
  {
   "cell_type": "markdown",
   "metadata": {},
   "source": [
    "### W naszym przypadku mamy"
   ]
  },
  {
   "cell_type": "markdown",
   "metadata": {},
   "source": [
    "\\begin{align*}\n",
    "P(klasa|cechy) = \\frac{P(cechy|klasa)*P(klasa)}{P(cechy)}\n",
    "\\end{align*}"
   ]
  },
  {
   "cell_type": "markdown",
   "metadata": {},
   "source": [
    "\\begin{align*}\n",
    "P(y|x) = \\frac{P(x_{1}|y)* P(x_{2}|y)*P(x_{3}|y)* [...] *P(y)}{P(x)}\n",
    "\\end{align*}"
   ]
  },
  {
   "cell_type": "markdown",
   "metadata": {},
   "source": [
    "### P(x|y) dla poszczegolnych wartosci"
   ]
  },
  {
   "cell_type": "markdown",
   "metadata": {},
   "source": [
    "\\begin{align*}\n",
    "P(x_{i}|y) = \\frac{1}{\\sqrt{2  \\pi  \\sigma_{y}^{2} }} * exp ( - \\frac{(x_{i} - \\mu_{y})^{2}}{2\\sigma_{y}^{2}} )\n",
    "\\end{align*}"
   ]
  },
  {
   "cell_type": "markdown",
   "metadata": {},
   "source": [
    "\\begin{align*}\n",
    "\\sigma^{2} = wariancja\n",
    "\\end{align*}"
   ]
  },
  {
   "cell_type": "markdown",
   "metadata": {},
   "source": [
    "## Uproszczona wartość wykorzystana w algorytmie"
   ]
  },
  {
   "cell_type": "markdown",
   "metadata": {},
   "source": [
    "\\begin{align*}\n",
    "Wartość-do-porównania = log(P(x_{1}|y))* log(P(x_{2}|y))*log(P(x_{3}|y))*[...] * log(P(y))\n",
    "\\end{align*}"
   ]
  },
  {
   "cell_type": "code",
   "execution_count": 4,
   "metadata": {},
   "outputs": [],
   "source": [
    "import numpy as np\n",
    "from sklearn import datasets\n",
    "iris = datasets.load_iris()\n",
    "x = iris.data[:, :2]\n",
    "y = (iris.target != 0) * 1"
   ]
  },
  {
   "cell_type": "code",
   "execution_count": 5,
   "metadata": {},
   "outputs": [],
   "source": [
    "from sklearn.model_selection import train_test_split\n",
    "x_train, x_test, y_train,y_test = train_test_split(x,y,test_size=0.8)"
   ]
  },
  {
   "cell_type": "code",
   "execution_count": 6,
   "metadata": {},
   "outputs": [
    {
     "data": {
      "image/png": "[encoded data removed]",
      "text/plain": [
       "<Figure size 432x288 with 1 Axes>"
      ]
     },
     "metadata": {
      "needs_background": "light"
     },
     "output_type": "display_data"
    }
   ],
   "source": [
    "import matplotlib.pyplot as plt\n",
    "plt.scatter(x_train[:,0],x_train[:,1], c = y_train)\n",
    "\n",
    "x = x_train\n",
    "y = y_train"
   ]
  },
  {
   "cell_type": "code",
   "execution_count": 7,
   "metadata": {},
   "outputs": [],
   "source": [
    "liczba_probek, liczba_cech = x.shape\n",
    "klasy = np.unique(y)\n",
    "liczba_klas = len(klasy)"
   ]
  },
  {
   "cell_type": "markdown",
   "metadata": {},
   "source": [
    "### Uczenie modelu"
   ]
  },
  {
   "cell_type": "code",
   "execution_count": 8,
   "metadata": {},
   "outputs": [],
   "source": [
    "srednia = np.zeros((liczba_klas,liczba_cech))\n",
    "wariancja = np.zeros((liczba_klas,liczba_cech))\n",
    "priors =  np.zeros(liczba_klas)\n",
    "\n",
    "for idx, c in enumerate(klasy):\n",
    "    X_c = x[y==c]\n",
    "    srednia[idx, :] = X_c.mean(axis=0)\n",
    "    wariancja[idx, :] = X_c.var(axis=0)\n",
    "    priors[idx] = X_c.shape[0] / float(liczba_probek)    #Mówi o tym, jak  często występuje dana klasa"
   ]
  },
  {
   "cell_type": "markdown",
   "metadata": {},
   "source": [
    "### Definujmey funckję gęstości prawdopodobieństwa"
   ]
  },
  {
   "cell_type": "markdown",
   "metadata": {},
   "source": [
    "\\begin{align*}\n",
    "P(x_{i}|y) = \\frac{1}{\\sqrt{2  \\pi  \\sigma_{y}^{2} }} * exp ( - \\frac{(x_{i} - \\mu_{y})^{2}}{2\\sigma_{y}^{2}} )\n",
    "\\end{align*}"
   ]
  },
  {
   "cell_type": "code",
   "execution_count": 9,
   "metadata": {},
   "outputs": [],
   "source": [
    "def gestosc_prawdopodobienstwa(class_idx, x, srednia, wariancja):  \n",
    "    srednia = srednia[class_idx]\n",
    "    wariancja = wariancja[class_idx]\n",
    "    licznik = np.exp(- (x-srednia)**2 / (2 * wariancja))\n",
    "    mianownik = np.sqrt(2 * np.pi * wariancja)\n",
    "    return licznik / mianownik"
   ]
  },
  {
   "cell_type": "markdown",
   "metadata": {},
   "source": [
    "### Obliczamy prawdopodobieństwo dla każdej klasy"
   ]
  },
  {
   "cell_type": "markdown",
   "metadata": {},
   "source": [
    "\n",
    "\n",
    "\\begin{align*}\n",
    "Wartość-do-porównania = log(P(x_{1}|y)) + log(P(x_{2}|y)) + log(P(y))\n",
    "\\end{align*}"
   ]
  },
  {
   "cell_type": "code",
   "execution_count": 31,
   "metadata": {},
   "outputs": [],
   "source": [
    "def predykcja(x):\n",
    "    posteriors = []\n",
    "\n",
    "    for idx, c in enumerate(klasy):\n",
    "        prior = np.log(priors[idx])\n",
    "        posterior = np.sum(np.log(gestosc_prawdopodobienstwa(idx, x, srednia, wariancja)))\n",
    "        posterior = prior + posterior\n",
    "        posteriors.append(posterior)\n",
    "\n",
    "\n",
    "    return klasy[np.argmax(posteriors)]"
   ]
  },
  {
   "cell_type": "code",
   "execution_count": 32,
   "metadata": {},
   "outputs": [],
   "source": [
    "y_predykcja = [predykcja(x) for x in x_test]"
   ]
  },
  {
   "cell_type": "markdown",
   "metadata": {},
   "source": [
    "### Predykcja"
   ]
  },
  {
   "cell_type": "code",
   "execution_count": 19,
   "metadata": {},
   "outputs": [
    {
     "data": {
      "text/plain": [
       "<matplotlib.collections.PathCollection at 0x1efd1b8cba8>"
      ]
     },
     "execution_count": 19,
     "metadata": {},
     "output_type": "execute_result"
    },
    {
     "data": {
      "image/png": "[encoded data removed]",
      "text/plain": [
       "<Figure size 432x288 with 1 Axes>"
      ]
     },
     "metadata": {
      "needs_background": "light"
     },
     "output_type": "display_data"
    }
   ],
   "source": [
    "import matplotlib.pyplot as plt\n",
    "plt.scatter(x_test[:,0],x_test[:,1], c = y_predykcja)"
   ]
  },
  {
   "cell_type": "markdown",
   "metadata": {},
   "source": [
    "### Wartości prawdziwe"
   ]
  },
  {
   "cell_type": "code",
   "execution_count": 20,
   "metadata": {},
   "outputs": [
    {
     "data": {
      "text/plain": [
       "<matplotlib.collections.PathCollection at 0x1efd1c030b8>"
      ]
     },
     "execution_count": 20,
     "metadata": {},
     "output_type": "execute_result"
    },
    {
     "data": {
      "image/png": "[encoded data removed]",
      "text/plain": [
       "<Figure size 432x288 with 1 Axes>"
      ]
     },
     "metadata": {
      "needs_background": "light"
     },
     "output_type": "display_data"
    }
   ],
   "source": [
    "plt.scatter(x_test[:,0],x_test[:,1], c = y_test)"
   ]
  },
  {
   "cell_type": "code",
   "execution_count": null,
   "metadata": {},
   "outputs": [],
   "source": []
  },
  {
   "cell_type": "code",
   "execution_count": null,
   "metadata": {},
   "outputs": [],
   "source": []
  },
  {
   "cell_type": "code",
   "execution_count": null,
   "metadata": {},
   "outputs": [],
   "source": []
  }
 ],
 "metadata": {
  "kernelspec": {
   "display_name": "Python 3",
   "language": "python",
   "name": "python3"
  },
  "language_info": {
   "codemirror_mode": {
    "name": "ipython",
    "version": 3
   },
   "file_extension": ".py",
   "mimetype": "text/x-python",
   "name": "python",
   "nbconvert_exporter": "python",
   "pygments_lexer": "ipython3",
   "version": "3.7.1"
  }
 },
 "nbformat": 4,
 "nbformat_minor": 4
}
